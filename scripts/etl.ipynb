{
 "cells": [
  {
   "cell_type": "code",
   "execution_count": null,
   "id": "175ac0ae",
   "metadata": {},
   "outputs": [],
   "source": [
    "import pandas as pd\n",
    "from google.cloud import bigquery\n",
    "from google.oauth2 import service_account\n",
    "from pandas_gbq import to_gbq\n",
    "\n",
    "customers= r\"C:\\Users\\Thiag\\Documents\\Data_analytics\\Projetos Data\\Projetos\\project_olist_eccom\\data\\raw\\olist_customers_dataset.csv\"\n",
    "geolocation= r\"C:\\Users\\Thiag\\Documents\\Data_analytics\\Projetos Data\\Projetos\\project_olist_eccom\\data\\raw\\olist_geolocation_dataset.csv\"\n",
    "order_items= r\"C:\\Users\\Thiag\\Documents\\Data_analytics\\Projetos Data\\Projetos\\project_olist_eccom\\data\\raw\\olist_order_items_dataset.csv\"\n",
    "payments= r\"C:\\Users\\Thiag\\Documents\\Data_analytics\\Projetos Data\\Projetos\\project_olist_eccom\\data\\raw\\olist_order_payments_dataset.csv\"\n",
    "reviews= r\"C:\\Users\\Thiag\\Documents\\Data_analytics\\Projetos Data\\Projetos\\project_olist_eccom\\data\\raw\\olist_order_reviews_dataset.csv\"\n",
    "orders= r\"C:\\Users\\Thiag\\Documents\\Data_analytics\\Projetos Data\\Projetos\\project_olist_eccom\\data\\raw\\olist_orders_dataset.csv\"\n",
    "products= r\"C:\\Users\\Thiag\\Documents\\Data_analytics\\Projetos Data\\Projetos\\project_olist_eccom\\data\\raw\\olist_products_dataset.csv\"\n",
    "sellers= r\"C:\\Users\\Thiag\\Documents\\Data_analytics\\Projetos Data\\Projetos\\project_olist_eccom\\data\\raw\\olist_sellers_dataset.csv\"\n",
    "product_category_name= r\"C:\\Users\\Thiag\\Documents\\Data_analytics\\Projetos Data\\Projetos\\project_olist_eccom\\data\\raw\\product_category_name_translation.csv\"\n",
    "\n",
    "df_customers = pd.read_csv(customers,sep=\",\")\n",
    "df_geolocation = pd.read_csv(geolocation,sep=\",\")\n",
    "df_order_items = pd.read_csv(order_items,sep=\",\")\n",
    "df_payments = pd.read_csv(payments,sep=\",\")\n",
    "df_reviews = pd.read_csv(reviews,sep=\",\")\n",
    "df_orders = pd.read_csv(orders,sep=\",\")\n",
    "df_products = pd.read_csv(products,sep=\",\")\n",
    "df_sellers = pd.read_csv(sellers,sep=\",\")\n",
    "df_product_category_name = pd.read_csv(product_category_name,sep=\",\")\n"
   ]
  },
  {
   "cell_type": "code",
   "execution_count": null,
   "id": "e4b67c40",
   "metadata": {},
   "outputs": [],
   "source": [
    "credencial = service_account.Credentials.from_service_account_file(\n",
    "    r\"C:\\Users\\Thiag\\Documents\\Data_analytics\\Projetos Data\\Outros\\analytics-463320-3bc0f7f4d1b9.json\",\n",
    "    scopes=['https://www.googleapis.com/auth/bigquery']\n",
    ")"
   ]
  },
  {
   "cell_type": "code",
   "execution_count": null,
   "id": "fbf32ad8",
   "metadata": {},
   "outputs": [],
   "source": [
    "projeto     ='analytics-463320'\n",
    "dataset     ='bronze'\n",
    "parameretro ='replace'"
   ]
  },
  {
   "cell_type": "code",
   "execution_count": null,
   "id": "6df6fdb2",
   "metadata": {},
   "outputs": [],
   "source": [
    "to_gbq(df_customers, destination_table=f'{projeto}.{dataset}.olist_customers', project_id=projeto)\n",
    "to_gbq(df_geolocation, destination_table=f'{projeto}.{dataset}.olist_geolocation', project_id=projeto)\n",
    "to_gbq(df_order_items, destination_table=f'{projeto}.{dataset}.olist_order_items', project_id=projeto)\n",
    "to_gbq(df_payments, destination_table=f'{projeto}.{dataset}.olist_payments', project_id=projeto)\n",
    "to_gbq(df_reviews, destination_table=f'{projeto}.{dataset}.olist_reviews', project_id=projeto)\n",
    "to_gbq(df_orders, destination_table=f'{projeto}.{dataset}.olist_orders', project_id=projeto)\n",
    "to_gbq(df_products, destination_table=f'{projeto}.{dataset}.olist_products', project_id=projeto)\n",
    "to_gbq(df_sellers, destination_table=f'{projeto}.{dataset}.olist_sellers', project_id=projeto)\n",
    "to_gbq(df_product_category_name, destination_table=f'{projeto}.{dataset}.olist_product_category_name', project_id=projeto)"
   ]
  }
 ],
 "metadata": {
  "kernelspec": {
   "display_name": "Python 3",
   "language": "python",
   "name": "python3"
  },
  "language_info": {
   "codemirror_mode": {
    "name": "ipython",
    "version": 3
   },
   "file_extension": ".py",
   "mimetype": "text/x-python",
   "name": "python",
   "nbconvert_exporter": "python",
   "pygments_lexer": "ipython3",
   "version": "3.13.5"
  }
 },
 "nbformat": 4,
 "nbformat_minor": 5
}
